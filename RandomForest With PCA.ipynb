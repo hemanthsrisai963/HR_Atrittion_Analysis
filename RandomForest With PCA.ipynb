{
 "cells": [
  {
   "cell_type": "markdown",
   "metadata": {
    "id": "_2SVpvK3jqdo"
   },
   "source": [
    "# Importing Modules"
   ]
  },
  {
   "cell_type": "code",
   "execution_count": 30,
   "metadata": {
    "executionInfo": {
     "elapsed": 1107,
     "status": "ok",
     "timestamp": 1637826382036,
     "user": {
      "displayName": "Aastha IIITD",
      "photoUrl": "https://lh3.googleusercontent.com/a-/AOh14GiLraMOSGhp36GfNRW9pA30-8inCgO3YzOMmuDksQ=s64",
      "userId": "17611466845080095343"
     },
     "user_tz": -330
    },
    "id": "svdasjARhQdX"
   },
   "outputs": [],
   "source": [
    "import pandas as pd\n",
    "import numpy as np\n",
    "import matplotlib.pyplot as plt\n",
    "import seaborn as sns\n",
    "\n",
    "from sklearn.preprocessing import StandardScaler, OneHotEncoder, LabelEncoder, MinMaxScaler\n",
    "from sklearn.model_selection import train_test_split, GridSearchCV, cross_validate\n",
    "\n",
    "from sklearn.linear_model import LogisticRegression\n",
    "from sklearn.metrics import accuracy_score,precision_score, recall_score, confusion_matrix, f1_score\n",
    "from imblearn.over_sampling import RandomOverSampler\n",
    "import warnings\n",
    "from sklearn.exceptions import FitFailedWarning\n",
    "warnings.simplefilter('ignore', FitFailedWarning)\n",
    "\n",
    "from sklearn.decomposition import PCA"
   ]
  },
  {
   "cell_type": "markdown",
   "metadata": {
    "id": "8xfMmoLAjyJj"
   },
   "source": [
    "# Importing Dataset"
   ]
  },
  {
   "cell_type": "code",
   "execution_count": 31,
   "metadata": {
    "executionInfo": {
     "elapsed": 8,
     "status": "ok",
     "timestamp": 1637826382038,
     "user": {
      "displayName": "Aastha IIITD",
      "photoUrl": "https://lh3.googleusercontent.com/a-/AOh14GiLraMOSGhp36GfNRW9pA30-8inCgO3YzOMmuDksQ=s64",
      "userId": "17611466845080095343"
     },
     "user_tz": -330
    },
    "id": "1oC43f6mjvpO"
   },
   "outputs": [],
   "source": [
    "df = pd.read_csv('HR_Employee_Attrition.csv')"
   ]
  },
  {
   "cell_type": "code",
   "execution_count": 32,
   "metadata": {
    "colab": {
     "base_uri": "https://localhost:8080/",
     "height": 313
    },
    "executionInfo": {
     "elapsed": 30,
     "status": "ok",
     "timestamp": 1637826382501,
     "user": {
      "displayName": "Aastha IIITD",
      "photoUrl": "https://lh3.googleusercontent.com/a-/AOh14GiLraMOSGhp36GfNRW9pA30-8inCgO3YzOMmuDksQ=s64",
      "userId": "17611466845080095343"
     },
     "user_tz": -330
    },
    "id": "Bx6Q6cb_j695",
    "outputId": "3827dfe8-c00f-414c-cdeb-b9109f0b2a26"
   },
   "outputs": [
    {
     "data": {
      "text/html": [
       "<div>\n",
       "<style scoped>\n",
       "    .dataframe tbody tr th:only-of-type {\n",
       "        vertical-align: middle;\n",
       "    }\n",
       "\n",
       "    .dataframe tbody tr th {\n",
       "        vertical-align: top;\n",
       "    }\n",
       "\n",
       "    .dataframe thead th {\n",
       "        text-align: right;\n",
       "    }\n",
       "</style>\n",
       "<table border=\"1\" class=\"dataframe\">\n",
       "  <thead>\n",
       "    <tr style=\"text-align: right;\">\n",
       "      <th></th>\n",
       "      <th>EmployeeNumber</th>\n",
       "      <th>Attrition</th>\n",
       "      <th>Age</th>\n",
       "      <th>BusinessTravel</th>\n",
       "      <th>DailyRate</th>\n",
       "      <th>Department</th>\n",
       "      <th>DistanceFromHome</th>\n",
       "      <th>Education</th>\n",
       "      <th>EducationField</th>\n",
       "      <th>EmployeeCount</th>\n",
       "      <th>...</th>\n",
       "      <th>RelationshipSatisfaction</th>\n",
       "      <th>StandardHours</th>\n",
       "      <th>StockOptionLevel</th>\n",
       "      <th>TotalWorkingYears</th>\n",
       "      <th>TrainingTimesLastYear</th>\n",
       "      <th>WorkLifeBalance</th>\n",
       "      <th>YearsAtCompany</th>\n",
       "      <th>YearsInCurrentRole</th>\n",
       "      <th>YearsSinceLastPromotion</th>\n",
       "      <th>YearsWithCurrManager</th>\n",
       "    </tr>\n",
       "  </thead>\n",
       "  <tbody>\n",
       "    <tr>\n",
       "      <th>0</th>\n",
       "      <td>1</td>\n",
       "      <td>Yes</td>\n",
       "      <td>41</td>\n",
       "      <td>Travel_Rarely</td>\n",
       "      <td>1102</td>\n",
       "      <td>Sales</td>\n",
       "      <td>1</td>\n",
       "      <td>2</td>\n",
       "      <td>Life Sciences</td>\n",
       "      <td>1</td>\n",
       "      <td>...</td>\n",
       "      <td>1</td>\n",
       "      <td>80</td>\n",
       "      <td>0</td>\n",
       "      <td>8</td>\n",
       "      <td>0</td>\n",
       "      <td>1</td>\n",
       "      <td>6</td>\n",
       "      <td>4</td>\n",
       "      <td>0</td>\n",
       "      <td>5</td>\n",
       "    </tr>\n",
       "    <tr>\n",
       "      <th>1</th>\n",
       "      <td>2</td>\n",
       "      <td>No</td>\n",
       "      <td>49</td>\n",
       "      <td>Travel_Frequently</td>\n",
       "      <td>279</td>\n",
       "      <td>Research &amp; Development</td>\n",
       "      <td>8</td>\n",
       "      <td>1</td>\n",
       "      <td>Life Sciences</td>\n",
       "      <td>1</td>\n",
       "      <td>...</td>\n",
       "      <td>4</td>\n",
       "      <td>80</td>\n",
       "      <td>1</td>\n",
       "      <td>10</td>\n",
       "      <td>3</td>\n",
       "      <td>3</td>\n",
       "      <td>10</td>\n",
       "      <td>7</td>\n",
       "      <td>1</td>\n",
       "      <td>7</td>\n",
       "    </tr>\n",
       "    <tr>\n",
       "      <th>2</th>\n",
       "      <td>3</td>\n",
       "      <td>Yes</td>\n",
       "      <td>37</td>\n",
       "      <td>Travel_Rarely</td>\n",
       "      <td>1373</td>\n",
       "      <td>Research &amp; Development</td>\n",
       "      <td>2</td>\n",
       "      <td>2</td>\n",
       "      <td>Other</td>\n",
       "      <td>1</td>\n",
       "      <td>...</td>\n",
       "      <td>2</td>\n",
       "      <td>80</td>\n",
       "      <td>0</td>\n",
       "      <td>7</td>\n",
       "      <td>3</td>\n",
       "      <td>3</td>\n",
       "      <td>0</td>\n",
       "      <td>0</td>\n",
       "      <td>0</td>\n",
       "      <td>0</td>\n",
       "    </tr>\n",
       "    <tr>\n",
       "      <th>3</th>\n",
       "      <td>4</td>\n",
       "      <td>No</td>\n",
       "      <td>33</td>\n",
       "      <td>Travel_Frequently</td>\n",
       "      <td>1392</td>\n",
       "      <td>Research &amp; Development</td>\n",
       "      <td>3</td>\n",
       "      <td>4</td>\n",
       "      <td>Life Sciences</td>\n",
       "      <td>1</td>\n",
       "      <td>...</td>\n",
       "      <td>3</td>\n",
       "      <td>80</td>\n",
       "      <td>0</td>\n",
       "      <td>8</td>\n",
       "      <td>3</td>\n",
       "      <td>3</td>\n",
       "      <td>8</td>\n",
       "      <td>7</td>\n",
       "      <td>3</td>\n",
       "      <td>0</td>\n",
       "    </tr>\n",
       "    <tr>\n",
       "      <th>4</th>\n",
       "      <td>5</td>\n",
       "      <td>No</td>\n",
       "      <td>27</td>\n",
       "      <td>Travel_Rarely</td>\n",
       "      <td>591</td>\n",
       "      <td>Research &amp; Development</td>\n",
       "      <td>2</td>\n",
       "      <td>1</td>\n",
       "      <td>Medical</td>\n",
       "      <td>1</td>\n",
       "      <td>...</td>\n",
       "      <td>4</td>\n",
       "      <td>80</td>\n",
       "      <td>1</td>\n",
       "      <td>6</td>\n",
       "      <td>3</td>\n",
       "      <td>3</td>\n",
       "      <td>2</td>\n",
       "      <td>2</td>\n",
       "      <td>2</td>\n",
       "      <td>2</td>\n",
       "    </tr>\n",
       "  </tbody>\n",
       "</table>\n",
       "<p>5 rows × 35 columns</p>\n",
       "</div>"
      ],
      "text/plain": [
       "   EmployeeNumber Attrition  Age     BusinessTravel  DailyRate  \\\n",
       "0               1       Yes   41      Travel_Rarely       1102   \n",
       "1               2        No   49  Travel_Frequently        279   \n",
       "2               3       Yes   37      Travel_Rarely       1373   \n",
       "3               4        No   33  Travel_Frequently       1392   \n",
       "4               5        No   27      Travel_Rarely        591   \n",
       "\n",
       "               Department  DistanceFromHome  Education EducationField  \\\n",
       "0                   Sales                 1          2  Life Sciences   \n",
       "1  Research & Development                 8          1  Life Sciences   \n",
       "2  Research & Development                 2          2          Other   \n",
       "3  Research & Development                 3          4  Life Sciences   \n",
       "4  Research & Development                 2          1        Medical   \n",
       "\n",
       "   EmployeeCount  ...  RelationshipSatisfaction StandardHours  \\\n",
       "0              1  ...                         1            80   \n",
       "1              1  ...                         4            80   \n",
       "2              1  ...                         2            80   \n",
       "3              1  ...                         3            80   \n",
       "4              1  ...                         4            80   \n",
       "\n",
       "   StockOptionLevel  TotalWorkingYears  TrainingTimesLastYear WorkLifeBalance  \\\n",
       "0                 0                  8                      0               1   \n",
       "1                 1                 10                      3               3   \n",
       "2                 0                  7                      3               3   \n",
       "3                 0                  8                      3               3   \n",
       "4                 1                  6                      3               3   \n",
       "\n",
       "   YearsAtCompany YearsInCurrentRole  YearsSinceLastPromotion  \\\n",
       "0               6                  4                        0   \n",
       "1              10                  7                        1   \n",
       "2               0                  0                        0   \n",
       "3               8                  7                        3   \n",
       "4               2                  2                        2   \n",
       "\n",
       "   YearsWithCurrManager  \n",
       "0                     5  \n",
       "1                     7  \n",
       "2                     0  \n",
       "3                     0  \n",
       "4                     2  \n",
       "\n",
       "[5 rows x 35 columns]"
      ]
     },
     "execution_count": 32,
     "metadata": {},
     "output_type": "execute_result"
    }
   ],
   "source": [
    "df.head()"
   ]
  },
  {
   "cell_type": "code",
   "execution_count": 33,
   "metadata": {},
   "outputs": [
    {
     "data": {
      "text/plain": [
       "(2940, 35)"
      ]
     },
     "execution_count": 33,
     "metadata": {},
     "output_type": "execute_result"
    }
   ],
   "source": [
    "#H- printing no.of columns and rows in the dataset\n",
    "df.shape"
   ]
  },
  {
   "cell_type": "code",
   "execution_count": 34,
   "metadata": {},
   "outputs": [
    {
     "data": {
      "text/html": [
       "<div>\n",
       "<style scoped>\n",
       "    .dataframe tbody tr th:only-of-type {\n",
       "        vertical-align: middle;\n",
       "    }\n",
       "\n",
       "    .dataframe tbody tr th {\n",
       "        vertical-align: top;\n",
       "    }\n",
       "\n",
       "    .dataframe thead th {\n",
       "        text-align: right;\n",
       "    }\n",
       "</style>\n",
       "<table border=\"1\" class=\"dataframe\">\n",
       "  <thead>\n",
       "    <tr style=\"text-align: right;\">\n",
       "      <th></th>\n",
       "      <th>EmployeeNumber</th>\n",
       "      <th>Age</th>\n",
       "      <th>DailyRate</th>\n",
       "      <th>DistanceFromHome</th>\n",
       "      <th>Education</th>\n",
       "      <th>EmployeeCount</th>\n",
       "      <th>EnvironmentSatisfaction</th>\n",
       "      <th>HourlyRate</th>\n",
       "      <th>JobInvolvement</th>\n",
       "      <th>JobLevel</th>\n",
       "      <th>...</th>\n",
       "      <th>RelationshipSatisfaction</th>\n",
       "      <th>StandardHours</th>\n",
       "      <th>StockOptionLevel</th>\n",
       "      <th>TotalWorkingYears</th>\n",
       "      <th>TrainingTimesLastYear</th>\n",
       "      <th>WorkLifeBalance</th>\n",
       "      <th>YearsAtCompany</th>\n",
       "      <th>YearsInCurrentRole</th>\n",
       "      <th>YearsSinceLastPromotion</th>\n",
       "      <th>YearsWithCurrManager</th>\n",
       "    </tr>\n",
       "  </thead>\n",
       "  <tbody>\n",
       "    <tr>\n",
       "      <th>count</th>\n",
       "      <td>2940.000000</td>\n",
       "      <td>2940.000000</td>\n",
       "      <td>2940.000000</td>\n",
       "      <td>2940.000000</td>\n",
       "      <td>2940.000000</td>\n",
       "      <td>2940.0</td>\n",
       "      <td>2940.000000</td>\n",
       "      <td>2940.000000</td>\n",
       "      <td>2940.000000</td>\n",
       "      <td>2940.000000</td>\n",
       "      <td>...</td>\n",
       "      <td>2940.000000</td>\n",
       "      <td>2940.0</td>\n",
       "      <td>2940.000000</td>\n",
       "      <td>2940.000000</td>\n",
       "      <td>2940.000000</td>\n",
       "      <td>2940.000000</td>\n",
       "      <td>2940.000000</td>\n",
       "      <td>2940.000000</td>\n",
       "      <td>2940.000000</td>\n",
       "      <td>2940.000000</td>\n",
       "    </tr>\n",
       "    <tr>\n",
       "      <th>mean</th>\n",
       "      <td>1470.500000</td>\n",
       "      <td>36.923810</td>\n",
       "      <td>802.485714</td>\n",
       "      <td>9.192517</td>\n",
       "      <td>2.912925</td>\n",
       "      <td>1.0</td>\n",
       "      <td>2.721769</td>\n",
       "      <td>65.891156</td>\n",
       "      <td>2.729932</td>\n",
       "      <td>2.063946</td>\n",
       "      <td>...</td>\n",
       "      <td>2.712245</td>\n",
       "      <td>80.0</td>\n",
       "      <td>0.793878</td>\n",
       "      <td>11.279592</td>\n",
       "      <td>2.799320</td>\n",
       "      <td>2.761224</td>\n",
       "      <td>7.008163</td>\n",
       "      <td>4.229252</td>\n",
       "      <td>2.187755</td>\n",
       "      <td>4.123129</td>\n",
       "    </tr>\n",
       "    <tr>\n",
       "      <th>std</th>\n",
       "      <td>848.849221</td>\n",
       "      <td>9.133819</td>\n",
       "      <td>403.440447</td>\n",
       "      <td>8.105485</td>\n",
       "      <td>1.023991</td>\n",
       "      <td>0.0</td>\n",
       "      <td>1.092896</td>\n",
       "      <td>20.325969</td>\n",
       "      <td>0.711440</td>\n",
       "      <td>1.106752</td>\n",
       "      <td>...</td>\n",
       "      <td>1.081025</td>\n",
       "      <td>0.0</td>\n",
       "      <td>0.851932</td>\n",
       "      <td>7.779458</td>\n",
       "      <td>1.289051</td>\n",
       "      <td>0.706356</td>\n",
       "      <td>6.125483</td>\n",
       "      <td>3.622521</td>\n",
       "      <td>3.221882</td>\n",
       "      <td>3.567529</td>\n",
       "    </tr>\n",
       "    <tr>\n",
       "      <th>min</th>\n",
       "      <td>1.000000</td>\n",
       "      <td>18.000000</td>\n",
       "      <td>102.000000</td>\n",
       "      <td>1.000000</td>\n",
       "      <td>1.000000</td>\n",
       "      <td>1.0</td>\n",
       "      <td>1.000000</td>\n",
       "      <td>30.000000</td>\n",
       "      <td>1.000000</td>\n",
       "      <td>1.000000</td>\n",
       "      <td>...</td>\n",
       "      <td>1.000000</td>\n",
       "      <td>80.0</td>\n",
       "      <td>0.000000</td>\n",
       "      <td>0.000000</td>\n",
       "      <td>0.000000</td>\n",
       "      <td>1.000000</td>\n",
       "      <td>0.000000</td>\n",
       "      <td>0.000000</td>\n",
       "      <td>0.000000</td>\n",
       "      <td>0.000000</td>\n",
       "    </tr>\n",
       "    <tr>\n",
       "      <th>25%</th>\n",
       "      <td>735.750000</td>\n",
       "      <td>30.000000</td>\n",
       "      <td>465.000000</td>\n",
       "      <td>2.000000</td>\n",
       "      <td>2.000000</td>\n",
       "      <td>1.0</td>\n",
       "      <td>2.000000</td>\n",
       "      <td>48.000000</td>\n",
       "      <td>2.000000</td>\n",
       "      <td>1.000000</td>\n",
       "      <td>...</td>\n",
       "      <td>2.000000</td>\n",
       "      <td>80.0</td>\n",
       "      <td>0.000000</td>\n",
       "      <td>6.000000</td>\n",
       "      <td>2.000000</td>\n",
       "      <td>2.000000</td>\n",
       "      <td>3.000000</td>\n",
       "      <td>2.000000</td>\n",
       "      <td>0.000000</td>\n",
       "      <td>2.000000</td>\n",
       "    </tr>\n",
       "    <tr>\n",
       "      <th>50%</th>\n",
       "      <td>1470.500000</td>\n",
       "      <td>36.000000</td>\n",
       "      <td>802.000000</td>\n",
       "      <td>7.000000</td>\n",
       "      <td>3.000000</td>\n",
       "      <td>1.0</td>\n",
       "      <td>3.000000</td>\n",
       "      <td>66.000000</td>\n",
       "      <td>3.000000</td>\n",
       "      <td>2.000000</td>\n",
       "      <td>...</td>\n",
       "      <td>3.000000</td>\n",
       "      <td>80.0</td>\n",
       "      <td>1.000000</td>\n",
       "      <td>10.000000</td>\n",
       "      <td>3.000000</td>\n",
       "      <td>3.000000</td>\n",
       "      <td>5.000000</td>\n",
       "      <td>3.000000</td>\n",
       "      <td>1.000000</td>\n",
       "      <td>3.000000</td>\n",
       "    </tr>\n",
       "    <tr>\n",
       "      <th>75%</th>\n",
       "      <td>2205.250000</td>\n",
       "      <td>43.000000</td>\n",
       "      <td>1157.000000</td>\n",
       "      <td>14.000000</td>\n",
       "      <td>4.000000</td>\n",
       "      <td>1.0</td>\n",
       "      <td>4.000000</td>\n",
       "      <td>84.000000</td>\n",
       "      <td>3.000000</td>\n",
       "      <td>3.000000</td>\n",
       "      <td>...</td>\n",
       "      <td>4.000000</td>\n",
       "      <td>80.0</td>\n",
       "      <td>1.000000</td>\n",
       "      <td>15.000000</td>\n",
       "      <td>3.000000</td>\n",
       "      <td>3.000000</td>\n",
       "      <td>9.000000</td>\n",
       "      <td>7.000000</td>\n",
       "      <td>3.000000</td>\n",
       "      <td>7.000000</td>\n",
       "    </tr>\n",
       "    <tr>\n",
       "      <th>max</th>\n",
       "      <td>2940.000000</td>\n",
       "      <td>60.000000</td>\n",
       "      <td>1499.000000</td>\n",
       "      <td>29.000000</td>\n",
       "      <td>5.000000</td>\n",
       "      <td>1.0</td>\n",
       "      <td>4.000000</td>\n",
       "      <td>100.000000</td>\n",
       "      <td>4.000000</td>\n",
       "      <td>5.000000</td>\n",
       "      <td>...</td>\n",
       "      <td>4.000000</td>\n",
       "      <td>80.0</td>\n",
       "      <td>3.000000</td>\n",
       "      <td>40.000000</td>\n",
       "      <td>6.000000</td>\n",
       "      <td>4.000000</td>\n",
       "      <td>40.000000</td>\n",
       "      <td>18.000000</td>\n",
       "      <td>15.000000</td>\n",
       "      <td>17.000000</td>\n",
       "    </tr>\n",
       "  </tbody>\n",
       "</table>\n",
       "<p>8 rows × 26 columns</p>\n",
       "</div>"
      ],
      "text/plain": [
       "       EmployeeNumber          Age    DailyRate  DistanceFromHome  \\\n",
       "count     2940.000000  2940.000000  2940.000000       2940.000000   \n",
       "mean      1470.500000    36.923810   802.485714          9.192517   \n",
       "std        848.849221     9.133819   403.440447          8.105485   \n",
       "min          1.000000    18.000000   102.000000          1.000000   \n",
       "25%        735.750000    30.000000   465.000000          2.000000   \n",
       "50%       1470.500000    36.000000   802.000000          7.000000   \n",
       "75%       2205.250000    43.000000  1157.000000         14.000000   \n",
       "max       2940.000000    60.000000  1499.000000         29.000000   \n",
       "\n",
       "         Education  EmployeeCount  EnvironmentSatisfaction   HourlyRate  \\\n",
       "count  2940.000000         2940.0              2940.000000  2940.000000   \n",
       "mean      2.912925            1.0                 2.721769    65.891156   \n",
       "std       1.023991            0.0                 1.092896    20.325969   \n",
       "min       1.000000            1.0                 1.000000    30.000000   \n",
       "25%       2.000000            1.0                 2.000000    48.000000   \n",
       "50%       3.000000            1.0                 3.000000    66.000000   \n",
       "75%       4.000000            1.0                 4.000000    84.000000   \n",
       "max       5.000000            1.0                 4.000000   100.000000   \n",
       "\n",
       "       JobInvolvement     JobLevel  ...  RelationshipSatisfaction  \\\n",
       "count     2940.000000  2940.000000  ...               2940.000000   \n",
       "mean         2.729932     2.063946  ...                  2.712245   \n",
       "std          0.711440     1.106752  ...                  1.081025   \n",
       "min          1.000000     1.000000  ...                  1.000000   \n",
       "25%          2.000000     1.000000  ...                  2.000000   \n",
       "50%          3.000000     2.000000  ...                  3.000000   \n",
       "75%          3.000000     3.000000  ...                  4.000000   \n",
       "max          4.000000     5.000000  ...                  4.000000   \n",
       "\n",
       "       StandardHours  StockOptionLevel  TotalWorkingYears  \\\n",
       "count         2940.0       2940.000000        2940.000000   \n",
       "mean            80.0          0.793878          11.279592   \n",
       "std              0.0          0.851932           7.779458   \n",
       "min             80.0          0.000000           0.000000   \n",
       "25%             80.0          0.000000           6.000000   \n",
       "50%             80.0          1.000000          10.000000   \n",
       "75%             80.0          1.000000          15.000000   \n",
       "max             80.0          3.000000          40.000000   \n",
       "\n",
       "       TrainingTimesLastYear  WorkLifeBalance  YearsAtCompany  \\\n",
       "count            2940.000000      2940.000000     2940.000000   \n",
       "mean                2.799320         2.761224        7.008163   \n",
       "std                 1.289051         0.706356        6.125483   \n",
       "min                 0.000000         1.000000        0.000000   \n",
       "25%                 2.000000         2.000000        3.000000   \n",
       "50%                 3.000000         3.000000        5.000000   \n",
       "75%                 3.000000         3.000000        9.000000   \n",
       "max                 6.000000         4.000000       40.000000   \n",
       "\n",
       "       YearsInCurrentRole  YearsSinceLastPromotion  YearsWithCurrManager  \n",
       "count         2940.000000              2940.000000           2940.000000  \n",
       "mean             4.229252                 2.187755              4.123129  \n",
       "std              3.622521                 3.221882              3.567529  \n",
       "min              0.000000                 0.000000              0.000000  \n",
       "25%              2.000000                 0.000000              2.000000  \n",
       "50%              3.000000                 1.000000              3.000000  \n",
       "75%              7.000000                 3.000000              7.000000  \n",
       "max             18.000000                15.000000             17.000000  \n",
       "\n",
       "[8 rows x 26 columns]"
      ]
     },
     "execution_count": 34,
     "metadata": {},
     "output_type": "execute_result"
    }
   ],
   "source": [
    "df.describe()"
   ]
  },
  {
   "cell_type": "markdown",
   "metadata": {
    "id": "_mRm7fQ7mwvq"
   },
   "source": [
    "## No Missing Values"
   ]
  },
  {
   "cell_type": "code",
   "execution_count": 35,
   "metadata": {
    "colab": {
     "base_uri": "https://localhost:8080/"
    },
    "executionInfo": {
     "elapsed": 23,
     "status": "ok",
     "timestamp": 1637826382501,
     "user": {
      "displayName": "Aastha IIITD",
      "photoUrl": "https://lh3.googleusercontent.com/a-/AOh14GiLraMOSGhp36GfNRW9pA30-8inCgO3YzOMmuDksQ=s64",
      "userId": "17611466845080095343"
     },
     "user_tz": -330
    },
    "id": "plrHD1Koj73G",
    "outputId": "e993b198-7849-4be1-cd53-c4c83c117e61"
   },
   "outputs": [
    {
     "ename": "SyntaxError",
     "evalue": "invalid syntax (3088086212.py, line 1)",
     "output_type": "error",
     "traceback": [
      "\u001b[1;36m  Input \u001b[1;32mIn [35]\u001b[1;36m\u001b[0m\n\u001b[1;33m    df.isna().any().any()|\u001b[0m\n\u001b[1;37m                          ^\u001b[0m\n\u001b[1;31mSyntaxError\u001b[0m\u001b[1;31m:\u001b[0m invalid syntax\n"
     ]
    }
   ],
   "source": [
    "df.isna().any().any()|"
   ]
  },
  {
   "cell_type": "code",
   "execution_count": 36,
   "metadata": {},
   "outputs": [
    {
     "data": {
      "text/plain": [
       "EmployeeNumber              0\n",
       "Attrition                   0\n",
       "Age                         0\n",
       "BusinessTravel              0\n",
       "DailyRate                   0\n",
       "Department                  0\n",
       "DistanceFromHome            0\n",
       "Education                   0\n",
       "EducationField              0\n",
       "EmployeeCount               0\n",
       "EnvironmentSatisfaction     0\n",
       "Gender                      0\n",
       "HourlyRate                  0\n",
       "JobInvolvement              0\n",
       "JobLevel                    0\n",
       "JobRole                     0\n",
       "JobSatisfaction             0\n",
       "MaritalStatus               0\n",
       "MonthlyIncome               0\n",
       "MonthlyRate                 0\n",
       "NumCompaniesWorked          0\n",
       "Over18                      0\n",
       "OverTime                    0\n",
       "PercentSalaryHike           0\n",
       "PerformanceRating           0\n",
       "RelationshipSatisfaction    0\n",
       "StandardHours               0\n",
       "StockOptionLevel            0\n",
       "TotalWorkingYears           0\n",
       "TrainingTimesLastYear       0\n",
       "WorkLifeBalance             0\n",
       "YearsAtCompany              0\n",
       "YearsInCurrentRole          0\n",
       "YearsSinceLastPromotion     0\n",
       "YearsWithCurrManager        0\n",
       "dtype: int64"
      ]
     },
     "execution_count": 36,
     "metadata": {},
     "output_type": "execute_result"
    }
   ],
   "source": [
    "#H-Giving the null values\n",
    "df.isna().sum()"
   ]
  },
  {
   "cell_type": "code",
   "execution_count": 37,
   "metadata": {},
   "outputs": [
    {
     "data": {
      "text/plain": [
       "EmployeeNumber              0.0\n",
       "Attrition                   0.0\n",
       "Age                         0.0\n",
       "BusinessTravel              0.0\n",
       "DailyRate                   0.0\n",
       "Department                  0.0\n",
       "DistanceFromHome            0.0\n",
       "Education                   0.0\n",
       "EducationField              0.0\n",
       "EmployeeCount               0.0\n",
       "EnvironmentSatisfaction     0.0\n",
       "Gender                      0.0\n",
       "HourlyRate                  0.0\n",
       "JobInvolvement              0.0\n",
       "JobLevel                    0.0\n",
       "JobRole                     0.0\n",
       "JobSatisfaction             0.0\n",
       "MaritalStatus               0.0\n",
       "MonthlyIncome               0.0\n",
       "MonthlyRate                 0.0\n",
       "NumCompaniesWorked          0.0\n",
       "Over18                      0.0\n",
       "OverTime                    0.0\n",
       "PercentSalaryHike           0.0\n",
       "PerformanceRating           0.0\n",
       "RelationshipSatisfaction    0.0\n",
       "StandardHours               0.0\n",
       "StockOptionLevel            0.0\n",
       "TotalWorkingYears           0.0\n",
       "TrainingTimesLastYear       0.0\n",
       "WorkLifeBalance             0.0\n",
       "YearsAtCompany              0.0\n",
       "YearsInCurrentRole          0.0\n",
       "YearsSinceLastPromotion     0.0\n",
       "YearsWithCurrManager        0.0\n",
       "dtype: float64"
      ]
     },
     "execution_count": 37,
     "metadata": {},
     "output_type": "execute_result"
    }
   ],
   "source": [
    "#H-This gives the percentages of null values present in the each column \n",
    "df.isna().sum()/df.shape[0]*100"
   ]
  },
  {
   "cell_type": "code",
   "execution_count": 38,
   "metadata": {},
   "outputs": [
    {
     "data": {
      "text/plain": [
       "No     2466\n",
       "Yes     474\n",
       "Name: Attrition, dtype: int64"
      ]
     },
     "execution_count": 38,
     "metadata": {},
     "output_type": "execute_result"
    }
   ],
   "source": [
    "#Get the values from attrition column from dataset\n",
    "df['Attrition'].value_counts()\n",
    "#2466 ppl stays & 474 ppl leaves"
   ]
  },
  {
   "cell_type": "code",
   "execution_count": 39,
   "metadata": {},
   "outputs": [
    {
     "data": {
      "text/plain": [
       "Text(0.5, 1.0, 'Attrition Probability')"
      ]
     },
     "execution_count": 39,
     "metadata": {},
     "output_type": "execute_result"
    },
    {
     "data": {
      "image/png": "[encoded data removed]",
      "text/plain": [
       "<Figure size 720x720 with 1 Axes>"
      ]
     },
     "metadata": {},
     "output_type": "display_data"
    }
   ],
   "source": [
    "#H-Plotting a piechart of the 'attrition' values,autopct gives the percentage plotting in the piechart\n",
    "f, ax = plt.subplots(figsize=(10,10))\n",
    "ax = df['Attrition'].value_counts().plot.pie( explode=[0,0],autopct = '%1.1f%%', shadow=True)\n",
    "ax.set_title('Attrition Probability')"
   ]
  },
  {
   "cell_type": "code",
   "execution_count": 40,
   "metadata": {},
   "outputs": [
    {
     "data": {
      "text/plain": [
       "<AxesSubplot:xlabel='YearsAtCompany', ylabel='count'>"
      ]
     },
     "execution_count": 40,
     "metadata": {},
     "output_type": "execute_result"
    },
    {
     "data": {
      "image/png": "[encoded data removed]",
      "text/plain": [
       "<Figure size 864x432 with 1 Axes>"
      ]
     },
     "metadata": {
      "needs_background": "light"
     },
     "output_type": "display_data"
    }
   ],
   "source": [
    "#H-Yearsatcompany Vs attrition countplot\n",
    "plt.subplots(figsize=(12,6))\n",
    "sns.countplot(x='YearsAtCompany', hue='Attrition', data=df, palette='colorblind')"
   ]
  },
  {
   "cell_type": "code",
   "execution_count": 41,
   "metadata": {},
   "outputs": [
    {
     "data": {
      "text/plain": [
       "<AxesSubplot:xlabel='Age', ylabel='count'>"
      ]
     },
     "execution_count": 41,
     "metadata": {},
     "output_type": "execute_result"
    },
    {
     "data": {
      "image/png": "[encoded data removed]",
      "text/plain": [
       "<Figure size 864x432 with 1 Axes>"
      ]
     },
     "metadata": {
      "needs_background": "light"
     },
     "output_type": "display_data"
    }
   ],
   "source": [
    "#H-age feature V attrition countplot\n",
    "plt.subplots(figsize=(12,6))\n",
    "sns.countplot(x='Age',hue='Attrition',data=df,palette='colorblind')"
   ]
  },
  {
   "cell_type": "markdown",
   "metadata": {
    "id": "ga-47TMSmzmq"
   },
   "source": [
    "# Encoding Categorical Values"
   ]
  },
  {
   "cell_type": "code",
   "execution_count": 42,
   "metadata": {},
   "outputs": [
    {
     "name": "stdout",
     "output_type": "stream",
     "text": [
      "Attrition:['Yes' 'No']\n",
      "No     2466\n",
      "Yes     474\n",
      "Name: Attrition, dtype: int64\n",
      "---------------------------------------------------\n",
      "BusinessTravel:['Travel_Rarely' 'Travel_Frequently' 'Non-Travel']\n",
      "Travel_Rarely        2086\n",
      "Travel_Frequently     554\n",
      "Non-Travel            300\n",
      "Name: BusinessTravel, dtype: int64\n",
      "---------------------------------------------------\n",
      "Department:['Sales' 'Research & Development' 'Human Resources']\n",
      "Research & Development    1922\n",
      "Sales                      892\n",
      "Human Resources            126\n",
      "Name: Department, dtype: int64\n",
      "---------------------------------------------------\n",
      "EducationField:['Life Sciences' 'Other' 'Medical' 'Marketing' 'Technical Degree'\n",
      " 'Human Resources']\n",
      "Life Sciences       1212\n",
      "Medical              928\n",
      "Marketing            318\n",
      "Technical Degree     264\n",
      "Other                164\n",
      "Human Resources       54\n",
      "Name: EducationField, dtype: int64\n",
      "---------------------------------------------------\n",
      "Gender:['Female' 'Male']\n",
      "Male      1764\n",
      "Female    1176\n",
      "Name: Gender, dtype: int64\n",
      "---------------------------------------------------\n",
      "JobRole:['Sales Executive' 'Research Scientist' 'Laboratory Technician'\n",
      " 'Manufacturing Director' 'Healthcare Representative' 'Manager'\n",
      " 'Sales Representative' 'Research Director' 'Human Resources']\n",
      "Sales Executive              652\n",
      "Research Scientist           584\n",
      "Laboratory Technician        518\n",
      "Manufacturing Director       290\n",
      "Healthcare Representative    262\n",
      "Manager                      204\n",
      "Sales Representative         166\n",
      "Research Director            160\n",
      "Human Resources              104\n",
      "Name: JobRole, dtype: int64\n",
      "---------------------------------------------------\n",
      "MaritalStatus:['Single' 'Married' 'Divorced']\n",
      "Married     1346\n",
      "Single       940\n",
      "Divorced     654\n",
      "Name: MaritalStatus, dtype: int64\n",
      "---------------------------------------------------\n",
      "Over18:['Y']\n",
      "Y    2940\n",
      "Name: Over18, dtype: int64\n",
      "---------------------------------------------------\n",
      "OverTime:['Yes' 'No']\n",
      "No     2108\n",
      "Yes     832\n",
      "Name: OverTime, dtype: int64\n",
      "---------------------------------------------------\n"
     ]
    }
   ],
   "source": [
    "#H-iterating to see categorical columns printing the unique values in each feature\n",
    "for column in df.columns:\n",
    "    if df[column].dtype==object:\n",
    "        print(str(column)+':'+ str(df[column].unique()))\n",
    "        print(df[column].value_counts())\n",
    "        print('---------------------------------------------------')"
   ]
  },
  {
   "cell_type": "code",
   "execution_count": 43,
   "metadata": {
    "executionInfo": {
     "elapsed": 19,
     "status": "ok",
     "timestamp": 1637826382502,
     "user": {
      "displayName": "Aastha IIITD",
      "photoUrl": "https://lh3.googleusercontent.com/a-/AOh14GiLraMOSGhp36GfNRW9pA30-8inCgO3YzOMmuDksQ=s64",
      "userId": "17611466845080095343"
     },
     "user_tz": -330
    },
    "id": "qKzH-roNkh2h"
   },
   "outputs": [],
   "source": [
    "#Columns with string values\n",
    "categorical_column = ['Attrition', 'BusinessTravel', 'Department','Gender', 'JobRole', 'MaritalStatus', 'OverTime','EducationField']\n",
    "encoder=LabelEncoder()\n",
    "df[categorical_column]=df[categorical_column].apply(encoder.fit_transform)"
   ]
  },
  {
   "cell_type": "markdown",
   "metadata": {
    "id": "6UkQJOPXn1bY"
   },
   "source": [
    "# Seperating into X and y"
   ]
  },
  {
   "cell_type": "code",
   "execution_count": 44,
   "metadata": {
    "executionInfo": {
     "elapsed": 18,
     "status": "ok",
     "timestamp": 1637826382502,
     "user": {
      "displayName": "Aastha IIITD",
      "photoUrl": "https://lh3.googleusercontent.com/a-/AOh14GiLraMOSGhp36GfNRW9pA30-8inCgO3YzOMmuDksQ=s64",
      "userId": "17611466845080095343"
     },
     "user_tz": -330
    },
    "id": "Z_F5HO95nRME"
   },
   "outputs": [],
   "source": [
    "y=df['Attrition']\n",
    "X=df.drop(['EmployeeCount','Attrition','EmployeeNumber','Over18','StandardHours'],axis=1)\n",
    "#some of the columns SD is 0 Employeecount is like S.NO"
   ]
  },
  {
   "cell_type": "code",
   "execution_count": 45,
   "metadata": {
    "executionInfo": {
     "elapsed": 18,
     "status": "ok",
     "timestamp": 1637826382502,
     "user": {
      "displayName": "Aastha IIITD",
      "photoUrl": "https://lh3.googleusercontent.com/a-/AOh14GiLraMOSGhp36GfNRW9pA30-8inCgO3YzOMmuDksQ=s64",
      "userId": "17611466845080095343"
     },
     "user_tz": -330
    },
    "id": "cOJF4o6iegoK"
   },
   "outputs": [],
   "source": [
    "from imblearn.over_sampling import RandomOverSampler\n",
    "from imblearn.under_sampling import RandomUnderSampler\n",
    "# so this undersampling \n",
    "rus = RandomUnderSampler(random_state=42,replacement=True)\n",
    "X_, Y1 = rus.fit_resample(X,y)\n",
    "X1 = pd.DataFrame(X_,columns=X.columns)\n",
    "# and this is oversampling\n",
    "ros = RandomOverSampler(random_state=42)\n",
    "X_, Y2 = ros.fit_resample(X,y)\n",
    "X2 = pd.DataFrame(X_,columns=X.columns)"
   ]
  },
  {
   "cell_type": "markdown",
   "metadata": {
    "id": "h91lKdjPfi4o"
   },
   "source": [
    "## UnderSampling"
   ]
  },
  {
   "cell_type": "code",
   "execution_count": 46,
   "metadata": {
    "executionInfo": {
     "elapsed": 18,
     "status": "ok",
     "timestamp": 1637826382503,
     "user": {
      "displayName": "Aastha IIITD",
      "photoUrl": "https://lh3.googleusercontent.com/a-/AOh14GiLraMOSGhp36GfNRW9pA30-8inCgO3YzOMmuDksQ=s64",
      "userId": "17611466845080095343"
     },
     "user_tz": -330
    },
    "id": "7OiFwmOOfnp9"
   },
   "outputs": [],
   "source": [
    "X=X1\n",
    "y=Y1"
   ]
  },
  {
   "cell_type": "markdown",
   "metadata": {
    "id": "ON7ZM52roZi3"
   },
   "source": [
    "# Spliting into Train and Test Sets"
   ]
  },
  {
   "cell_type": "code",
   "execution_count": 47,
   "metadata": {
    "executionInfo": {
     "elapsed": 19,
     "status": "ok",
     "timestamp": 1637826382504,
     "user": {
      "displayName": "Aastha IIITD",
      "photoUrl": "https://lh3.googleusercontent.com/a-/AOh14GiLraMOSGhp36GfNRW9pA30-8inCgO3YzOMmuDksQ=s64",
      "userId": "17611466845080095343"
     },
     "user_tz": -330
    },
    "id": "s4lsXDvon7LE"
   },
   "outputs": [],
   "source": [
    "X_train, X_test, y_train, y_test = train_test_split(X,y,test_size=0.3,random_state=1)"
   ]
  },
  {
   "cell_type": "markdown",
   "metadata": {
    "id": "K0JD2huXaiJ0"
   },
   "source": [
    "## PCA"
   ]
  },
  {
   "cell_type": "code",
   "execution_count": 48,
   "metadata": {
    "colab": {
     "base_uri": "https://localhost:8080/",
     "height": 405
    },
    "executionInfo": {
     "elapsed": 574,
     "status": "ok",
     "timestamp": 1637826383060,
     "user": {
      "displayName": "Aastha IIITD",
      "photoUrl": "https://lh3.googleusercontent.com/a-/AOh14GiLraMOSGhp36GfNRW9pA30-8inCgO3YzOMmuDksQ=s64",
      "userId": "17611466845080095343"
     },
     "user_tz": -330
    },
    "id": "X2LokT5njOSK",
    "outputId": "f6535a9b-9156-4831-a91c-5377a6e9b3fa"
   },
   "outputs": [
    {
     "name": "stdout",
     "output_type": "stream",
     "text": [
      "Two PCs explain [ 73.62735475  99.76419398  99.99903201  99.99963387  99.99975371\n",
      "  99.99984915  99.99991291  99.99993319  99.99994885  99.99995803\n",
      "  99.99996629  99.99997334  99.99997906  99.9999835   99.99998616\n",
      "  99.99998846  99.99999027  99.99999197  99.99999363  99.99999516\n",
      "  99.99999665  99.99999746  99.99999812  99.99999868  99.99999901\n",
      "  99.99999932  99.99999961  99.99999981  99.99999993 100.        ] % of variance cumulatively\n",
      "30\n"
     ]
    },
    {
     "data": {
      "text/plain": [
       "<function matplotlib.pyplot.show(close=None, block=None)>"
      ]
     },
     "execution_count": 48,
     "metadata": {},
     "output_type": "execute_result"
    },
    {
     "data": {
      "image/png": "[encoded data removed]",
      "text/plain": [
       "<Figure size 432x288 with 1 Axes>"
      ]
     },
     "metadata": {
      "needs_background": "light"
     },
     "output_type": "display_data"
    }
   ],
   "source": [
    "pca = PCA(random_state=0)\n",
    "principalComponents = pca.fit_transform(X_train)\n",
    "\n",
    "print('Two PCs explain', np.cumsum(pca.explained_variance_ratio_)*100, '% of variance cumulatively')\n",
    "# scree plot\n",
    "print(len(pca.explained_variance_ratio_))\n",
    "PC_values = np.arange(pca.n_components_) + 1\n",
    "plt.plot(PC_values, pca.explained_variance_ratio_, 'ro-', linewidth=2)\n",
    "plt.title('Scree Plot')\n",
    "plt.xlabel('Principal Component')\n",
    "plt.ylabel('Proportion of Variance Explained')\n",
    "plt.show"
   ]
  },
  {
   "cell_type": "code",
   "execution_count": 49,
   "metadata": {},
   "outputs": [
    {
     "name": "stdout",
     "output_type": "stream",
     "text": [
      "Two PCs explain [73.62735475 99.76419398] % of variance cumulatively\n",
      "2\n"
     ]
    },
    {
     "data": {
      "text/plain": [
       "<function matplotlib.pyplot.show(close=None, block=None)>"
      ]
     },
     "execution_count": 49,
     "metadata": {},
     "output_type": "execute_result"
    },
    {
     "data": {
      "image/png": "[encoded data removed]",
      "text/plain": [
       "<Figure size 432x288 with 1 Axes>"
      ]
     },
     "metadata": {
      "needs_background": "light"
     },
     "output_type": "display_data"
    }
   ],
   "source": [
    "pca = PCA(n_components=2,random_state=0)\n",
    "principalComponents = pca.fit_transform(X_train)\n",
    "\n",
    "print('Two PCs explain', np.cumsum(pca.explained_variance_ratio_)*100, '% of variance cumulatively')\n",
    "# scree plot\n",
    "print(len(pca.explained_variance_ratio_))\n",
    "PC_values = np.arange(pca.n_components_) + 1\n",
    "plt.plot(PC_values, pca.explained_variance_ratio_, 'ro-', linewidth=2)\n",
    "plt.title('Scree Plot')\n",
    "plt.xlabel('Principal Component')\n",
    "plt.ylabel('Proportion of Variance Explained')\n",
    "plt.show"
   ]
  },
  {
   "cell_type": "code",
   "execution_count": null,
   "metadata": {
    "colab": {
     "base_uri": "https://localhost:8080/",
     "height": 313
    },
    "executionInfo": {
     "elapsed": 13,
     "status": "ok",
     "timestamp": 1637826383060,
     "user": {
      "displayName": "Aastha IIITD",
      "photoUrl": "https://lh3.googleusercontent.com/a-/AOh14GiLraMOSGhp36GfNRW9pA30-8inCgO3YzOMmuDksQ=s64",
      "userId": "17611466845080095343"
     },
     "user_tz": -330
    },
    "id": "9VIb6GSQaxvB",
    "outputId": "325a237e-f347-4f62-e18e-7f4b0904e498"
   },
   "outputs": [],
   "source": []
  },
  {
   "cell_type": "code",
   "execution_count": 50,
   "metadata": {
    "executionInfo": {
     "elapsed": 10,
     "status": "ok",
     "timestamp": 1637826383061,
     "user": {
      "displayName": "Aastha IIITD",
      "photoUrl": "https://lh3.googleusercontent.com/a-/AOh14GiLraMOSGhp36GfNRW9pA30-8inCgO3YzOMmuDksQ=s64",
      "userId": "17611466845080095343"
     },
     "user_tz": -330
    },
    "id": "gp6iarM2a8DL"
   },
   "outputs": [],
   "source": [
    "X_train = principalComponents\n",
    "X_test = pca.transform(X_test)"
   ]
  },
  {
   "cell_type": "markdown",
   "metadata": {
    "id": "VEVEMc9hrrxG"
   },
   "source": [
    "# Applying Random Forest"
   ]
  },
  {
   "cell_type": "code",
   "execution_count": 51,
   "metadata": {
    "executionInfo": {
     "elapsed": 10,
     "status": "ok",
     "timestamp": 1637826383061,
     "user": {
      "displayName": "Aastha IIITD",
      "photoUrl": "https://lh3.googleusercontent.com/a-/AOh14GiLraMOSGhp36GfNRW9pA30-8inCgO3YzOMmuDksQ=s64",
      "userId": "17611466845080095343"
     },
     "user_tz": -330
    },
    "id": "Jfv3ftPTtCyB"
   },
   "outputs": [],
   "source": [
    "def train_predict_evaluate(model,X_train,y_train,X_test):\n",
    "  model.fit(X_train,y_train)\n",
    "  y_pred = model.predict(X_test)\n",
    "  print(\"Accuracy: \",accuracy_score(y_test,y_pred))\n",
    "  print(\"Precision: \",precision_score(y_test,y_pred))\n",
    "  print(\"Recall: \",recall_score(y_test,y_pred))\n",
    "  print(\"Confusion Matrix:\\n\",confusion_matrix(y_test,y_pred))"
   ]
  },
  {
   "cell_type": "code",
   "execution_count": 52,
   "metadata": {
    "executionInfo": {
     "elapsed": 13,
     "status": "ok",
     "timestamp": 1637826383064,
     "user": {
      "displayName": "Aastha IIITD",
      "photoUrl": "https://lh3.googleusercontent.com/a-/AOh14GiLraMOSGhp36GfNRW9pA30-8inCgO3YzOMmuDksQ=s64",
      "userId": "17611466845080095343"
     },
     "user_tz": -330
    },
    "id": "yIWGMigMrxWj"
   },
   "outputs": [],
   "source": [
    "from sklearn.ensemble import RandomForestClassifier\n",
    "\n",
    "# Create a Random Forest Classifier\n",
    "# Setting random state for randomization\n",
    "rf = RandomForestClassifier(random_state=42)\n"
   ]
  },
  {
   "cell_type": "markdown",
   "metadata": {
    "id": "Fh0TNMFpUtN9"
   },
   "source": [
    "# Hyperparameter Tuning"
   ]
  },
  {
   "cell_type": "markdown",
   "metadata": {
    "id": "2d0BsT9edAOA"
   },
   "source": [
    "Randomized Search Cross Validation"
   ]
  },
  {
   "cell_type": "code",
   "execution_count": 53,
   "metadata": {
    "executionInfo": {
     "elapsed": 13,
     "status": "ok",
     "timestamp": 1637826383065,
     "user": {
      "displayName": "Aastha IIITD",
      "photoUrl": "https://lh3.googleusercontent.com/a-/AOh14GiLraMOSGhp36GfNRW9pA30-8inCgO3YzOMmuDksQ=s64",
      "userId": "17611466845080095343"
     },
     "user_tz": -330
    },
    "id": "rzj9VrBnUy4o"
   },
   "outputs": [],
   "source": [
    "from sklearn.model_selection import RandomizedSearchCV\n",
    "\n",
    "# Taking a huge range of values to get nearer to optimal parameters\n",
    "\n",
    "# Parameters to check\n",
    "n_estimators = [int(x) for x in np.linspace(start = 100, stop = 1000, num = 10)]\n",
    "max_features = ['auto', 'sqrt']\n",
    "max_depth = [int(x) for x in np.linspace(10, 150, num = 10)]\n",
    "max_depth.append(None)\n",
    "min_samples_split = [2, 5, 10]\n",
    "min_samples_leaf = [1, 2, 4]\n",
    "bootstrap = [True, False]\n",
    "\n",
    "# Creating random grid\n",
    "random_grid = {'n_estimators': n_estimators,\n",
    "               'max_features': max_features,\n",
    "               'max_depth': max_depth,\n",
    "               'min_samples_split': min_samples_split,\n",
    "               'min_samples_leaf': min_samples_leaf,\n",
    "               'bootstrap': bootstrap}\n"
   ]
  },
  {
   "cell_type": "code",
   "execution_count": 54,
   "metadata": {
    "executionInfo": {
     "elapsed": 13,
     "status": "ok",
     "timestamp": 1637826383065,
     "user": {
      "displayName": "Aastha IIITD",
      "photoUrl": "https://lh3.googleusercontent.com/a-/AOh14GiLraMOSGhp36GfNRW9pA30-8inCgO3YzOMmuDksQ=s64",
      "userId": "17611466845080095343"
     },
     "user_tz": -330
    },
    "id": "mSnUbHPuXtgF"
   },
   "outputs": [],
   "source": [
    "# Using the random grid to search for best hyperparameters\n",
    "\n",
    "# Random search of parameters, using 3 fold cross validation, \n",
    "# search across 100 different combinations, and use all available cores\n",
    "rf_random = RandomizedSearchCV(estimator = rf, param_distributions = random_grid,\n",
    "                               n_iter = 100, cv = 3, verbose=2, \n",
    "                               random_state=42, n_jobs = -1)\n"
   ]
  },
  {
   "cell_type": "code",
   "execution_count": 55,
   "metadata": {
    "colab": {
     "base_uri": "https://localhost:8080/"
    },
    "executionInfo": {
     "elapsed": 199502,
     "status": "ok",
     "timestamp": 1637826582554,
     "user": {
      "displayName": "Aastha IIITD",
      "photoUrl": "https://lh3.googleusercontent.com/a-/AOh14GiLraMOSGhp36GfNRW9pA30-8inCgO3YzOMmuDksQ=s64",
      "userId": "17611466845080095343"
     },
     "user_tz": -330
    },
    "id": "TRNdsJC-ad8z",
    "outputId": "51f44cc6-bc22-4a0e-e2f7-736764dbd5e8"
   },
   "outputs": [
    {
     "name": "stdout",
     "output_type": "stream",
     "text": [
      "Fitting 3 folds for each of 100 candidates, totalling 300 fits\n",
      "Accuracy:  0.7578947368421053\n",
      "Precision:  0.7755102040816326\n",
      "Recall:  0.76\n",
      "Confusion Matrix:\n",
      " [[102  33]\n",
      " [ 36 114]]\n"
     ]
    }
   ],
   "source": [
    "# Training model and printing results\n",
    "train_predict_evaluate (rf_random, X_train, y_train, X_test)"
   ]
  },
  {
   "cell_type": "code",
   "execution_count": 56,
   "metadata": {
    "colab": {
     "base_uri": "https://localhost:8080/"
    },
    "executionInfo": {
     "elapsed": 7,
     "status": "ok",
     "timestamp": 1637826582555,
     "user": {
      "displayName": "Aastha IIITD",
      "photoUrl": "https://lh3.googleusercontent.com/a-/AOh14GiLraMOSGhp36GfNRW9pA30-8inCgO3YzOMmuDksQ=s64",
      "userId": "17611466845080095343"
     },
     "user_tz": -330
    },
    "id": "Lc_XAADcb24d",
    "outputId": "d1d095cf-b9a8-46ea-d1db-afbb45ceaad2"
   },
   "outputs": [
    {
     "data": {
      "text/plain": [
       "{'n_estimators': 100,\n",
       " 'min_samples_split': 2,\n",
       " 'min_samples_leaf': 2,\n",
       " 'max_features': 'sqrt',\n",
       " 'max_depth': 72,\n",
       " 'bootstrap': False}"
      ]
     },
     "execution_count": 56,
     "metadata": {},
     "output_type": "execute_result"
    }
   ],
   "source": [
    "# Finding the best parameters\n",
    "rf_random.best_params_"
   ]
  },
  {
   "cell_type": "markdown",
   "metadata": {
    "id": "SSk-t5FqdGT0"
   },
   "source": [
    "Grid Search Cross Validation"
   ]
  },
  {
   "cell_type": "code",
   "execution_count": 57,
   "metadata": {
    "executionInfo": {
     "elapsed": 4,
     "status": "ok",
     "timestamp": 1637826582555,
     "user": {
      "displayName": "Aastha IIITD",
      "photoUrl": "https://lh3.googleusercontent.com/a-/AOh14GiLraMOSGhp36GfNRW9pA30-8inCgO3YzOMmuDksQ=s64",
      "userId": "17611466845080095343"
     },
     "user_tz": -330
    },
    "id": "4BtUBBLPdJD4"
   },
   "outputs": [],
   "source": [
    "from sklearn.model_selection import GridSearchCV\n",
    "\n",
    "# After getting near to optimal values, using Random Search CV, \n",
    "# we now check for close values using Grid Search CV\n",
    "\n",
    "# Create the parameter grid based on the results of random search \n",
    "param_grid = {\n",
    "    'bootstrap': [False],\n",
    "    'max_depth': [100, 105, 110, 115],\n",
    "    'min_samples_leaf': [1,2,3],\n",
    "    'min_samples_split': [2,3,4],\n",
    "    'n_estimators': [250,300,350,400]\n",
    "}"
   ]
  },
  {
   "cell_type": "code",
   "execution_count": 58,
   "metadata": {
    "colab": {
     "base_uri": "https://localhost:8080/"
    },
    "executionInfo": {
     "elapsed": 148437,
     "status": "ok",
     "timestamp": 1637826730988,
     "user": {
      "displayName": "Aastha IIITD",
      "photoUrl": "https://lh3.googleusercontent.com/a-/AOh14GiLraMOSGhp36GfNRW9pA30-8inCgO3YzOMmuDksQ=s64",
      "userId": "17611466845080095343"
     },
     "user_tz": -330
    },
    "id": "7m6SsaMuebkh",
    "outputId": "2c6ef174-f920-4c1d-dd2b-9b393c936d42"
   },
   "outputs": [
    {
     "name": "stdout",
     "output_type": "stream",
     "text": [
      "Fitting 3 folds for each of 144 candidates, totalling 432 fits\n",
      "Accuracy:  0.7684210526315789\n",
      "Precision:  0.7916666666666666\n",
      "Recall:  0.76\n",
      "Confusion Matrix:\n",
      " [[105  30]\n",
      " [ 36 114]]\n"
     ]
    }
   ],
   "source": [
    "# Grid Search model\n",
    "grid_search = GridSearchCV(estimator = rf, param_grid = param_grid, \n",
    "                          cv = 3, n_jobs = -1, verbose = 2)\n",
    "\n",
    "# Results on the Grid Search model\n",
    "train_predict_evaluate (grid_search, X_train, y_train, X_test)"
   ]
  },
  {
   "cell_type": "code",
   "execution_count": 59,
   "metadata": {
    "colab": {
     "base_uri": "https://localhost:8080/"
    },
    "executionInfo": {
     "elapsed": 11,
     "status": "ok",
     "timestamp": 1637826730988,
     "user": {
      "displayName": "Aastha IIITD",
      "photoUrl": "https://lh3.googleusercontent.com/a-/AOh14GiLraMOSGhp36GfNRW9pA30-8inCgO3YzOMmuDksQ=s64",
      "userId": "17611466845080095343"
     },
     "user_tz": -330
    },
    "id": "CBkAOADsfcM-",
    "outputId": "e0610353-e264-4343-b174-e462813ae5d8"
   },
   "outputs": [
    {
     "data": {
      "text/plain": [
       "{'bootstrap': False,\n",
       " 'max_depth': 100,\n",
       " 'min_samples_leaf': 1,\n",
       " 'min_samples_split': 4,\n",
       " 'n_estimators': 350}"
      ]
     },
     "execution_count": 59,
     "metadata": {},
     "output_type": "execute_result"
    }
   ],
   "source": [
    "# Finding the best parameters\n",
    "grid_search.best_params_"
   ]
  },
  {
   "cell_type": "code",
   "execution_count": 60,
   "metadata": {
    "colab": {
     "base_uri": "https://localhost:8080/"
    },
    "executionInfo": {
     "elapsed": 702,
     "status": "ok",
     "timestamp": 1637826731685,
     "user": {
      "displayName": "Aastha IIITD",
      "photoUrl": "https://lh3.googleusercontent.com/a-/AOh14GiLraMOSGhp36GfNRW9pA30-8inCgO3YzOMmuDksQ=s64",
      "userId": "17611466845080095343"
     },
     "user_tz": -330
    },
    "id": "2EPmPFVapnFN",
    "outputId": "e632c3bb-d2bd-47e8-81f6-f16725a9a0e1"
   },
   "outputs": [
    {
     "name": "stdout",
     "output_type": "stream",
     "text": [
      "Accuracy:  0.7614035087719299\n",
      "Precision:  0.7808219178082192\n",
      "Recall:  0.76\n",
      "Confusion Matrix:\n",
      " [[103  32]\n",
      " [ 36 114]]\n"
     ]
    }
   ],
   "source": [
    "# Hyperparameter Tuning done\n",
    "# Best parameters found above\n",
    "# Using these parameters on our Random Forest model for most optimal results\n",
    "best_rf = RandomForestClassifier(bootstrap=False, max_depth=100, \n",
    "                                 min_samples_leaf=1,min_samples_split=2, \n",
    "                                 n_estimators=250, random_state=42)\n",
    "train_predict_evaluate (best_rf, X_train, y_train, X_test)"
   ]
  },
  {
   "cell_type": "markdown",
   "metadata": {
    "id": "bYT34VkEzXhQ"
   },
   "source": [
    "# K-Fold Cross Validation"
   ]
  },
  {
   "cell_type": "code",
   "execution_count": 61,
   "metadata": {
    "executionInfo": {
     "elapsed": 3,
     "status": "ok",
     "timestamp": 1637826731686,
     "user": {
      "displayName": "Aastha IIITD",
      "photoUrl": "https://lh3.googleusercontent.com/a-/AOh14GiLraMOSGhp36GfNRW9pA30-8inCgO3YzOMmuDksQ=s64",
      "userId": "17611466845080095343"
     },
     "user_tz": -330
    },
    "id": "4NHTmFu6F5mt"
   },
   "outputs": [],
   "source": [
    "def cross_validation(model,X,y):\n",
    "  scores = cross_validate(model, X, y, cv=5,scoring=('accuracy','precision','recall','f1'))\n",
    "\n",
    "  print(\"Accuracy: \", np.mean(scores['test_accuracy']))\n",
    "  print(\"Precision: \", np.mean(scores['test_precision']))\n",
    "  print(\"Recall: \", np.mean(scores['test_recall']))\n",
    "  print(\"F1 Score: \", np.mean(scores['test_f1']))\n"
   ]
  },
  {
   "cell_type": "markdown",
   "metadata": {
    "id": "wFGVqbADoGBF"
   },
   "source": [
    "Performing K-Fold Cross Validation on our model"
   ]
  },
  {
   "cell_type": "code",
   "execution_count": 62,
   "metadata": {
    "colab": {
     "base_uri": "https://localhost:8080/"
    },
    "executionInfo": {
     "elapsed": 411,
     "status": "ok",
     "timestamp": 1637826732094,
     "user": {
      "displayName": "Aastha IIITD",
      "photoUrl": "https://lh3.googleusercontent.com/a-/AOh14GiLraMOSGhp36GfNRW9pA30-8inCgO3YzOMmuDksQ=s64",
      "userId": "17611466845080095343"
     },
     "user_tz": -330
    },
    "id": "v3SrpxpDoLZp",
    "outputId": "66e07948-0eb8-4b8f-b665-30b6cb78c839"
   },
   "outputs": [
    {
     "name": "stdout",
     "output_type": "stream",
     "text": [
      "Accuracy:  0.9388137009189641\n",
      "Precision:  0.8915631165145728\n",
      "Recall:  1.0\n",
      "F1 Score:  0.942522053181359\n"
     ]
    }
   ],
   "source": [
    "# On model without Hyperparameter Tuning\n",
    "cross_validation(rf, X, y)"
   ]
  },
  {
   "cell_type": "code",
   "execution_count": 63,
   "metadata": {
    "colab": {
     "base_uri": "https://localhost:8080/"
    },
    "executionInfo": {
     "elapsed": 3568,
     "status": "ok",
     "timestamp": 1637826735659,
     "user": {
      "displayName": "Aastha IIITD",
      "photoUrl": "https://lh3.googleusercontent.com/a-/AOh14GiLraMOSGhp36GfNRW9pA30-8inCgO3YzOMmuDksQ=s64",
      "userId": "17611466845080095343"
     },
     "user_tz": -330
    },
    "id": "tENforr5o2xG",
    "outputId": "c54493f5-aca6-429b-e6fe-d31dfcf4fd7d"
   },
   "outputs": [
    {
     "name": "stdout",
     "output_type": "stream",
     "text": [
      "Accuracy:  0.9493790030632138\n",
      "Precision:  0.9088287442813258\n",
      "Recall:  1.0\n",
      "F1 Score:  0.952020270464255\n"
     ]
    }
   ],
   "source": [
    "# On model with Hyperparameter Tuning\n",
    "cross_validation(best_rf, X, y)"
   ]
  },
  {
   "cell_type": "markdown",
   "metadata": {
    "id": "mq_PKBK_fKQa"
   },
   "source": [
    "# Oversampling\n"
   ]
  },
  {
   "cell_type": "code",
   "execution_count": 64,
   "metadata": {
    "executionInfo": {
     "elapsed": 31,
     "status": "ok",
     "timestamp": 1637826735660,
     "user": {
      "displayName": "Aastha IIITD",
      "photoUrl": "https://lh3.googleusercontent.com/a-/AOh14GiLraMOSGhp36GfNRW9pA30-8inCgO3YzOMmuDksQ=s64",
      "userId": "17611466845080095343"
     },
     "user_tz": -330
    },
    "id": "kQRWMYt_fPYW"
   },
   "outputs": [],
   "source": [
    "X=X2\n",
    "y=Y2"
   ]
  },
  {
   "cell_type": "markdown",
   "metadata": {
    "id": "TffDk2d3iuqf"
   },
   "source": [
    "# Spliting into Train and Test Sets"
   ]
  },
  {
   "cell_type": "code",
   "execution_count": 65,
   "metadata": {
    "executionInfo": {
     "elapsed": 30,
     "status": "ok",
     "timestamp": 1637826735662,
     "user": {
      "displayName": "Aastha IIITD",
      "photoUrl": "https://lh3.googleusercontent.com/a-/AOh14GiLraMOSGhp36GfNRW9pA30-8inCgO3YzOMmuDksQ=s64",
      "userId": "17611466845080095343"
     },
     "user_tz": -330
    },
    "id": "ffWo9HOhiuqg"
   },
   "outputs": [],
   "source": [
    "X_train, X_test, y_train, y_test = train_test_split(X,y,test_size=0.3,random_state=1)"
   ]
  },
  {
   "cell_type": "markdown",
   "metadata": {
    "id": "N6yERbAuiuqg"
   },
   "source": [
    "## PCA"
   ]
  },
  {
   "cell_type": "code",
   "execution_count": 66,
   "metadata": {
    "colab": {
     "base_uri": "https://localhost:8080/",
     "height": 405
    },
    "executionInfo": {
     "elapsed": 30,
     "status": "ok",
     "timestamp": 1637826735662,
     "user": {
      "displayName": "Aastha IIITD",
      "photoUrl": "https://lh3.googleusercontent.com/a-/AOh14GiLraMOSGhp36GfNRW9pA30-8inCgO3YzOMmuDksQ=s64",
      "userId": "17611466845080095343"
     },
     "user_tz": -330
    },
    "id": "a7SBJiRCiuqg",
    "outputId": "2cf89c7f-fecc-4d29-f727-c3a5c9afb315"
   },
   "outputs": [
    {
     "name": "stdout",
     "output_type": "stream",
     "text": [
      "Two PCs explain [ 72.99466327  99.76964722  99.99904909  99.99964223  99.9997564\n",
      "  99.99985302  99.99991361  99.99993268  99.99994974  99.99995904\n",
      "  99.99996691  99.99997379  99.99997942  99.9999836   99.99998637\n",
      "  99.99998857  99.99999041  99.99999214  99.99999379  99.99999526\n",
      "  99.99999658  99.99999738  99.99999811  99.99999868  99.99999903\n",
      "  99.99999934  99.99999961  99.99999981  99.99999993 100.        ] % of variance cumulatively\n"
     ]
    },
    {
     "data": {
      "image/png": "[encoded data removed]",
      "text/plain": [
       "<Figure size 432x288 with 1 Axes>"
      ]
     },
     "metadata": {
      "needs_background": "light"
     },
     "output_type": "display_data"
    }
   ],
   "source": [
    "pca = PCA(random_state=0)\n",
    "principalComponents = pca.fit_transform(X_train)\n",
    "# print(pca.explained_variance_ratio_)\n",
    "print('Two PCs explain', np.cumsum(pca.explained_variance_ratio_)*100, '% of variance cumulatively')\n",
    "# scree plot\n",
    "PC_values = np.arange(pca.n_components_) + 1\n",
    "plt.plot(PC_values, pca.explained_variance_ratio_, 'ro-', linewidth=2)\n",
    "plt.title('Scree Plot')\n",
    "plt.xlabel('Principal Component')\n",
    "plt.ylabel('Proportion of Variance Explained')\n",
    "plt.show()"
   ]
  },
  {
   "cell_type": "code",
   "execution_count": 67,
   "metadata": {
    "colab": {
     "base_uri": "https://localhost:8080/",
     "height": 313
    },
    "executionInfo": {
     "elapsed": 25,
     "status": "ok",
     "timestamp": 1637826735663,
     "user": {
      "displayName": "Aastha IIITD",
      "photoUrl": "https://lh3.googleusercontent.com/a-/AOh14GiLraMOSGhp36GfNRW9pA30-8inCgO3YzOMmuDksQ=s64",
      "userId": "17611466845080095343"
     },
     "user_tz": -330
    },
    "id": "2LZpgDi2iuqg",
    "outputId": "35dda86a-a95d-4748-b84f-793f1f65ab6e"
   },
   "outputs": [
    {
     "name": "stdout",
     "output_type": "stream",
     "text": [
      "Two PCs explain [72.99466327 99.76964722] % of variance cumulatively\n"
     ]
    },
    {
     "data": {
      "image/png": "[encoded data removed]",
      "text/plain": [
       "<Figure size 432x288 with 1 Axes>"
      ]
     },
     "metadata": {
      "needs_background": "light"
     },
     "output_type": "display_data"
    }
   ],
   "source": [
    "pca = PCA(n_components=2, random_state=0)\n",
    "principalComponents = pca.fit_transform(X_train)\n",
    "# print(pca.explained_variance_ratio_)\n",
    "print('Two PCs explain', np.cumsum(pca.explained_variance_ratio_)*100, '% of variance cumulatively')\n",
    "# scree plot\n",
    "PC_values = np.arange(pca.n_components_) + 1\n",
    "plt.plot(PC_values, pca.explained_variance_ratio_, 'ro-', linewidth=2)\n",
    "plt.title('Scree Plot')\n",
    "plt.xlabel('Principal Component')\n",
    "plt.ylabel('Proportion of Variance Explained')\n",
    "plt.show()"
   ]
  },
  {
   "cell_type": "code",
   "execution_count": 68,
   "metadata": {
    "executionInfo": {
     "elapsed": 23,
     "status": "ok",
     "timestamp": 1637826735664,
     "user": {
      "displayName": "Aastha IIITD",
      "photoUrl": "https://lh3.googleusercontent.com/a-/AOh14GiLraMOSGhp36GfNRW9pA30-8inCgO3YzOMmuDksQ=s64",
      "userId": "17611466845080095343"
     },
     "user_tz": -330
    },
    "id": "hawOMojCiuqg"
   },
   "outputs": [],
   "source": [
    "X_train = principalComponents\n",
    "X_test = pca.transform(X_test)"
   ]
  },
  {
   "cell_type": "markdown",
   "metadata": {
    "id": "cMV3nb7ziuqg"
   },
   "source": [
    "# Applying Random Forest"
   ]
  },
  {
   "cell_type": "code",
   "execution_count": 69,
   "metadata": {
    "executionInfo": {
     "elapsed": 23,
     "status": "ok",
     "timestamp": 1637826735664,
     "user": {
      "displayName": "Aastha IIITD",
      "photoUrl": "https://lh3.googleusercontent.com/a-/AOh14GiLraMOSGhp36GfNRW9pA30-8inCgO3YzOMmuDksQ=s64",
      "userId": "17611466845080095343"
     },
     "user_tz": -330
    },
    "id": "j3_XCBamiuqh"
   },
   "outputs": [],
   "source": [
    "def train_predict_evaluate(model,X_train,y_train,X_test):\n",
    "  model.fit(X_train,y_train)\n",
    "  y_pred = model.predict(X_test)\n",
    "  print(\"Accuracy: \",accuracy_score(y_test,y_pred))\n",
    "  print(\"Precision: \",precision_score(y_test,y_pred))\n",
    "  print(\"Recall: \",recall_score(y_test,y_pred))\n",
    "  print(\"F1-Score:\\n\",f1_score(y_test,y_pred))\n",
    "  print(\"Confusion Matrix:\\n\",confusion_matrix(y_test,y_pred))"
   ]
  },
  {
   "cell_type": "code",
   "execution_count": 70,
   "metadata": {
    "executionInfo": {
     "elapsed": 22,
     "status": "ok",
     "timestamp": 1637826735664,
     "user": {
      "displayName": "Aastha IIITD",
      "photoUrl": "https://lh3.googleusercontent.com/a-/AOh14GiLraMOSGhp36GfNRW9pA30-8inCgO3YzOMmuDksQ=s64",
      "userId": "17611466845080095343"
     },
     "user_tz": -330
    },
    "id": "2QgXExZCiuqh"
   },
   "outputs": [],
   "source": [
    "from sklearn.ensemble import RandomForestClassifier\n",
    "\n",
    "# Create a Random Forest Classifier\n",
    "# Setting random state for randomization\n",
    "rf = RandomForestClassifier(random_state=42)\n"
   ]
  },
  {
   "cell_type": "markdown",
   "metadata": {
    "id": "xIdeD4Apiuqh"
   },
   "source": [
    "# Hyperparameter Tuning"
   ]
  },
  {
   "cell_type": "markdown",
   "metadata": {
    "id": "j4NiFQqciuqh"
   },
   "source": [
    "Randomized Search Cross Validation"
   ]
  },
  {
   "cell_type": "code",
   "execution_count": 71,
   "metadata": {
    "executionInfo": {
     "elapsed": 22,
     "status": "ok",
     "timestamp": 1637826735664,
     "user": {
      "displayName": "Aastha IIITD",
      "photoUrl": "https://lh3.googleusercontent.com/a-/AOh14GiLraMOSGhp36GfNRW9pA30-8inCgO3YzOMmuDksQ=s64",
      "userId": "17611466845080095343"
     },
     "user_tz": -330
    },
    "id": "ps5m9p1Qiuqh"
   },
   "outputs": [],
   "source": [
    "from sklearn.model_selection import RandomizedSearchCV\n",
    "\n",
    "# Taking a huge range of values to get nearer to optimal parameters\n",
    "\n",
    "# Parameters to check\n",
    "n_estimators = [int(x) for x in np.linspace(start = 100, stop = 1000, num = 10)]\n",
    "max_features = ['auto', 'sqrt']\n",
    "max_depth = [int(x) for x in np.linspace(10, 150, num = 10)]\n",
    "max_depth.append(None)\n",
    "min_samples_split = [2, 5, 10]\n",
    "min_samples_leaf = [1, 2, 4]\n",
    "bootstrap = [True, False]\n",
    "\n",
    "# Creating random grid\n",
    "random_grid = {'n_estimators': n_estimators,\n",
    "               'max_features': max_features,\n",
    "               'max_depth': max_depth,\n",
    "               'min_samples_split': min_samples_split,\n",
    "               'min_samples_leaf': min_samples_leaf,\n",
    "               'bootstrap': bootstrap}\n"
   ]
  },
  {
   "cell_type": "code",
   "execution_count": 72,
   "metadata": {
    "executionInfo": {
     "elapsed": 23,
     "status": "ok",
     "timestamp": 1637826735665,
     "user": {
      "displayName": "Aastha IIITD",
      "photoUrl": "https://lh3.googleusercontent.com/a-/AOh14GiLraMOSGhp36GfNRW9pA30-8inCgO3YzOMmuDksQ=s64",
      "userId": "17611466845080095343"
     },
     "user_tz": -330
    },
    "id": "Ywi3Iyx4iuqh"
   },
   "outputs": [],
   "source": [
    "# Using the random grid to search for best hyperparameters\n",
    "\n",
    "# Random search of parameters, using 3 fold cross validation, \n",
    "# search across 100 different combinations, and use all available cores\n",
    "rf_random = RandomizedSearchCV(estimator = rf, param_distributions = random_grid,\n",
    "                               n_iter = 100, cv = 3, verbose=2, \n",
    "                               random_state=42, n_jobs = -1)\n"
   ]
  },
  {
   "cell_type": "code",
   "execution_count": 73,
   "metadata": {
    "colab": {
     "base_uri": "https://localhost:8080/"
    },
    "executionInfo": {
     "elapsed": 369182,
     "status": "ok",
     "timestamp": 1637827104825,
     "user": {
      "displayName": "Aastha IIITD",
      "photoUrl": "https://lh3.googleusercontent.com/a-/AOh14GiLraMOSGhp36GfNRW9pA30-8inCgO3YzOMmuDksQ=s64",
      "userId": "17611466845080095343"
     },
     "user_tz": -330
    },
    "id": "ark-9U7fiuqh",
    "outputId": "4d230853-f191-4cb1-87f8-9c75afda8c6a"
   },
   "outputs": [
    {
     "name": "stdout",
     "output_type": "stream",
     "text": [
      "Fitting 3 folds for each of 100 candidates, totalling 300 fits\n",
      "Accuracy:  0.9864864864864865\n",
      "Precision:  0.9738219895287958\n",
      "Recall:  1.0\n",
      "F1-Score:\n",
      " 0.986737400530504\n",
      "Confusion Matrix:\n",
      " [[716  20]\n",
      " [  0 744]]\n"
     ]
    }
   ],
   "source": [
    "# Training model and printing results\n",
    "train_predict_evaluate (rf_random, X_train, y_train, X_test)"
   ]
  },
  {
   "cell_type": "code",
   "execution_count": 74,
   "metadata": {
    "colab": {
     "base_uri": "https://localhost:8080/"
    },
    "executionInfo": {
     "elapsed": 17,
     "status": "ok",
     "timestamp": 1637827104826,
     "user": {
      "displayName": "Aastha IIITD",
      "photoUrl": "https://lh3.googleusercontent.com/a-/AOh14GiLraMOSGhp36GfNRW9pA30-8inCgO3YzOMmuDksQ=s64",
      "userId": "17611466845080095343"
     },
     "user_tz": -330
    },
    "id": "gkYBCq6siuqi",
    "outputId": "45cc1aac-cae3-4a58-c1c3-1552ebbde1c2"
   },
   "outputs": [
    {
     "data": {
      "text/plain": [
       "{'n_estimators': 100,\n",
       " 'min_samples_split': 2,\n",
       " 'min_samples_leaf': 1,\n",
       " 'max_features': 'sqrt',\n",
       " 'max_depth': None,\n",
       " 'bootstrap': False}"
      ]
     },
     "execution_count": 74,
     "metadata": {},
     "output_type": "execute_result"
    }
   ],
   "source": [
    "# Finding the best parameters\n",
    "rf_random.best_params_"
   ]
  },
  {
   "cell_type": "markdown",
   "metadata": {
    "id": "U4OQ77moiuqi"
   },
   "source": [
    "Grid Search Cross Validation"
   ]
  },
  {
   "cell_type": "code",
   "execution_count": 75,
   "metadata": {
    "executionInfo": {
     "elapsed": 10,
     "status": "ok",
     "timestamp": 1637827104826,
     "user": {
      "displayName": "Aastha IIITD",
      "photoUrl": "https://lh3.googleusercontent.com/a-/AOh14GiLraMOSGhp36GfNRW9pA30-8inCgO3YzOMmuDksQ=s64",
      "userId": "17611466845080095343"
     },
     "user_tz": -330
    },
    "id": "3sSRWi-ziuqi"
   },
   "outputs": [],
   "source": [
    "from sklearn.model_selection import GridSearchCV\n",
    "\n",
    "# After getting near to optimal values, using Random Search CV, \n",
    "# we now check for close values using Grid Search CV\n",
    "\n",
    "# Create the parameter grid based on the results of random search \n",
    "param_grid = {\n",
    "    'bootstrap': [False],\n",
    "    'max_depth': [100, 105, 110, 115],\n",
    "    'min_samples_leaf': [1,2,3],\n",
    "    'min_samples_split': [2,3,4],\n",
    "    'n_estimators': [250,300,350,400]\n",
    "}"
   ]
  },
  {
   "cell_type": "code",
   "execution_count": 76,
   "metadata": {
    "colab": {
     "base_uri": "https://localhost:8080/"
    },
    "executionInfo": {
     "elapsed": 311563,
     "status": "ok",
     "timestamp": 1637827416380,
     "user": {
      "displayName": "Aastha IIITD",
      "photoUrl": "https://lh3.googleusercontent.com/a-/AOh14GiLraMOSGhp36GfNRW9pA30-8inCgO3YzOMmuDksQ=s64",
      "userId": "17611466845080095343"
     },
     "user_tz": -330
    },
    "id": "wNiEnVtwiuqi",
    "outputId": "fd032d00-5e44-4eaa-eda6-fc4745185d70"
   },
   "outputs": [
    {
     "name": "stdout",
     "output_type": "stream",
     "text": [
      "Fitting 3 folds for each of 144 candidates, totalling 432 fits\n",
      "Accuracy:  0.9864864864864865\n",
      "Precision:  0.9738219895287958\n",
      "Recall:  1.0\n",
      "F1-Score:\n",
      " 0.986737400530504\n",
      "Confusion Matrix:\n",
      " [[716  20]\n",
      " [  0 744]]\n"
     ]
    }
   ],
   "source": [
    "# Grid Search model\n",
    "grid_search = GridSearchCV(estimator = rf, param_grid = param_grid, \n",
    "                          cv = 3, n_jobs = -1, verbose = 2)\n",
    "\n",
    "# Results on the Grid Search model\n",
    "train_predict_evaluate (grid_search, X_train, y_train, X_test)"
   ]
  },
  {
   "cell_type": "code",
   "execution_count": 77,
   "metadata": {
    "colab": {
     "base_uri": "https://localhost:8080/"
    },
    "executionInfo": {
     "elapsed": 6,
     "status": "ok",
     "timestamp": 1637827416380,
     "user": {
      "displayName": "Aastha IIITD",
      "photoUrl": "https://lh3.googleusercontent.com/a-/AOh14GiLraMOSGhp36GfNRW9pA30-8inCgO3YzOMmuDksQ=s64",
      "userId": "17611466845080095343"
     },
     "user_tz": -330
    },
    "id": "iy1t_PWniuqi",
    "outputId": "77a731fd-d5f1-4524-b1b5-decda01d2761"
   },
   "outputs": [
    {
     "data": {
      "text/plain": [
       "{'bootstrap': False,\n",
       " 'max_depth': 100,\n",
       " 'min_samples_leaf': 1,\n",
       " 'min_samples_split': 2,\n",
       " 'n_estimators': 250}"
      ]
     },
     "execution_count": 77,
     "metadata": {},
     "output_type": "execute_result"
    }
   ],
   "source": [
    "# Finding the best parameters\n",
    "grid_search.best_params_"
   ]
  },
  {
   "cell_type": "code",
   "execution_count": 78,
   "metadata": {
    "colab": {
     "base_uri": "https://localhost:8080/"
    },
    "executionInfo": {
     "elapsed": 662,
     "status": "ok",
     "timestamp": 1637827417039,
     "user": {
      "displayName": "Aastha IIITD",
      "photoUrl": "https://lh3.googleusercontent.com/a-/AOh14GiLraMOSGhp36GfNRW9pA30-8inCgO3YzOMmuDksQ=s64",
      "userId": "17611466845080095343"
     },
     "user_tz": -330
    },
    "id": "2cdouizRiuqj",
    "outputId": "7b20f658-2628-49d7-d52c-ed45f74bf2bf"
   },
   "outputs": [
    {
     "name": "stdout",
     "output_type": "stream",
     "text": [
      "Accuracy:  0.9864864864864865\n",
      "Precision:  0.9738219895287958\n",
      "Recall:  1.0\n",
      "F1-Score:\n",
      " 0.986737400530504\n",
      "Confusion Matrix:\n",
      " [[716  20]\n",
      " [  0 744]]\n"
     ]
    }
   ],
   "source": [
    "# Hyperparameter Tuning done\n",
    "# Best parameters found above\n",
    "# Using these parameters on our Random Forest model for most optimal results\n",
    "best_rf = RandomForestClassifier(bootstrap=False, max_depth=100, \n",
    "                                 min_samples_leaf=1,min_samples_split=2, \n",
    "                                 n_estimators=250, random_state=42)\n",
    "train_predict_evaluate (best_rf, X_train, y_train, X_test)"
   ]
  },
  {
   "cell_type": "markdown",
   "metadata": {
    "id": "J98S_qE-iuqj"
   },
   "source": [
    "# K-Fold Cross Validation"
   ]
  },
  {
   "cell_type": "code",
   "execution_count": 79,
   "metadata": {
    "executionInfo": {
     "elapsed": 3,
     "status": "ok",
     "timestamp": 1637827417040,
     "user": {
      "displayName": "Aastha IIITD",
      "photoUrl": "https://lh3.googleusercontent.com/a-/AOh14GiLraMOSGhp36GfNRW9pA30-8inCgO3YzOMmuDksQ=s64",
      "userId": "17611466845080095343"
     },
     "user_tz": -330
    },
    "id": "yop4-_Hmiuqj"
   },
   "outputs": [],
   "source": [
    "def cross_validation(model,X,y):\n",
    "  scores = cross_validate(model, X, y, cv=5,scoring=('accuracy','precision','recall','f1'))\n",
    "\n",
    "  print(\"Accuracy: \", np.mean(scores['test_accuracy']))\n",
    "  print(\"Precision: \", np.mean(scores['test_precision']))\n",
    "  print(\"Recall: \", np.mean(scores['test_recall']))\n",
    "  print(\"F1 Score: \", np.mean(scores['test_f1']))\n"
   ]
  },
  {
   "cell_type": "markdown",
   "metadata": {
    "id": "qzRMun41iuqj"
   },
   "source": [
    "Performing K-Fold Cross Validation on our model"
   ]
  },
  {
   "cell_type": "code",
   "execution_count": 80,
   "metadata": {
    "colab": {
     "base_uri": "https://localhost:8080/"
    },
    "executionInfo": {
     "elapsed": 1978,
     "status": "ok",
     "timestamp": 1637827419016,
     "user": {
      "displayName": "Aastha IIITD",
      "photoUrl": "https://lh3.googleusercontent.com/a-/AOh14GiLraMOSGhp36GfNRW9pA30-8inCgO3YzOMmuDksQ=s64",
      "userId": "17611466845080095343"
     },
     "user_tz": -330
    },
    "id": "jJRoVZvdiuqj",
    "outputId": "745300f0-bf67-4299-e4fd-9dbf9fe0a8ff"
   },
   "outputs": [
    {
     "name": "stdout",
     "output_type": "stream",
     "text": [
      "Accuracy:  1.0\n",
      "Precision:  1.0\n",
      "Recall:  1.0\n",
      "F1 Score:  1.0\n"
     ]
    }
   ],
   "source": [
    "# On model without Hyperparameter Tuning\n",
    "cross_validation(rf, X, y)"
   ]
  },
  {
   "cell_type": "code",
   "execution_count": 81,
   "metadata": {
    "colab": {
     "base_uri": "https://localhost:8080/"
    },
    "executionInfo": {
     "elapsed": 5526,
     "status": "ok",
     "timestamp": 1637827424541,
     "user": {
      "displayName": "Aastha IIITD",
      "photoUrl": "https://lh3.googleusercontent.com/a-/AOh14GiLraMOSGhp36GfNRW9pA30-8inCgO3YzOMmuDksQ=s64",
      "userId": "17611466845080095343"
     },
     "user_tz": -330
    },
    "id": "yb-2wYOqiuqj",
    "outputId": "3b723638-7f5e-4ddc-ec8d-3582cbd6fea1"
   },
   "outputs": [
    {
     "name": "stdout",
     "output_type": "stream",
     "text": [
      "Accuracy:  1.0\n",
      "Precision:  1.0\n",
      "Recall:  1.0\n",
      "F1 Score:  1.0\n"
     ]
    }
   ],
   "source": [
    "# On model with Hyperparameter Tuning\n",
    "cross_validation(best_rf, X, y)"
   ]
  },
  {
   "cell_type": "code",
   "execution_count": null,
   "metadata": {},
   "outputs": [],
   "source": []
  },
  {
   "cell_type": "code",
   "execution_count": null,
   "metadata": {},
   "outputs": [],
   "source": []
  }
 ],
 "metadata": {
  "colab": {
   "collapsed_sections": [],
   "name": "Final RandomForest With PCA.ipynb",
   "provenance": [
    {
     "file_id": "1FEXVAFcG8WyOTRlu_GmexG4IGkOgYVkM",
     "timestamp": 1636893572477
    },
    {
     "file_id": "1JTiuxOhOaqRlfVCQ3pMHkUSUuBoXswxN",
     "timestamp": 1636389411853
    }
   ]
  },
  "kernelspec": {
   "display_name": "Python 3 (ipykernel)",
   "language": "python",
   "name": "python3"
  },
  "language_info": {
   "codemirror_mode": {
    "name": "ipython",
    "version": 3
   },
   "file_extension": ".py",
   "mimetype": "text/x-python",
   "name": "python",
   "nbconvert_exporter": "python",
   "pygments_lexer": "ipython3",
   "version": "3.9.12"
  }
 },
 "nbformat": 4,
 "nbformat_minor": 1
}
